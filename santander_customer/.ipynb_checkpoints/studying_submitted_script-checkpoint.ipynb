{
 "cells": [
  {
   "cell_type": "code",
   "execution_count": 1,
   "metadata": {},
   "outputs": [],
   "source": [
    "import numpy as np # linear algebra\n",
    "import pandas as pd # data processing, CSV file I/O (e.g. pd.read_csv)\n",
    "import os\n",
    "#print(os.listdir(\"../input\"))\n",
    "from sklearn.model_selection import KFold, StratifiedKFold\n",
    "from sklearn.metrics import roc_auc_score\n",
    "import lightgbm as lgb\n",
    "from numba import jit\n",
    "import warnings\n",
    "warnings.simplefilter(action='ignore', category=FutureWarning)\n",
    "warnings.filterwarnings('ignore')\n",
    "\n",
    "train_df = pd.read_csv('train.csv')\n",
    "test_df = pd.read_csv('test.csv')\n",
    "random_state = 42\n",
    "np.random.seed(random_state)"
   ]
  },
  {
   "cell_type": "markdown",
   "metadata": {},
   "source": [
    "@jit is a decorator to mark a function for optimization (http://numba.pydata.org/numba-doc/0.17.0/user/jit.html)\n",
    "\n",
    "You can use @jit(nopython=True, parallel=True) to optimize the code!"
   ]
  },
  {
   "cell_type": "code",
   "execution_count": 2,
   "metadata": {},
   "outputs": [],
   "source": [
    "# augment is a function that replicates x and y (appending these replications in the end) according to some criteria \n",
    "# Looks like it is trying to augment the data randomly in order increase the power/performance of any model fitted\n",
    "\n",
    "@jit\n",
    "def augment(x,y,t=2):\n",
    "    xs,xn = [],[]\n",
    "    for i in range(t):\n",
    "        mask = y>0\n",
    "        x1 = x[mask].copy()\n",
    "        ids = np.arange(x1.shape[0])\n",
    "        for c in range(x1.shape[1]):\n",
    "            np.random.shuffle(ids)\n",
    "            x1[:,c] = x1[ids][:,c]\n",
    "        xs.append(x1)\n",
    "\n",
    "    for i in range(t//2):\n",
    "        mask = y==0\n",
    "        x1 = x[mask].copy()\n",
    "        ids = np.arange(x1.shape[0])\n",
    "        for c in range(x1.shape[1]):\n",
    "            np.random.shuffle(ids)\n",
    "            x1[:,c] = x1[ids][:,c]\n",
    "        xn.append(x1)\n",
    "\n",
    "    xs = np.vstack(xs); xn = np.vstack(xn)\n",
    "    ys = np.ones(xs.shape[0]);yn = np.zeros(xn.shape[0])\n",
    "    x = np.vstack([x,xs,xn]); y = np.concatenate([y,ys,yn])\n",
    "    return x,y"
   ]
  },
  {
   "cell_type": "code",
   "execution_count": 64,
   "metadata": {},
   "outputs": [
    {
     "name": "stdout",
     "output_type": "stream",
     "text": [
      "[     1      2      3 ... 199996 199997 199999]\n",
      "[     0      1      2 ... 199997 199998 199999]\n",
      "[     0      1      2 ... 199996 199998 199999]\n",
      "[     0      3      4 ... 199996 199997 199998]\n",
      "[     0      1      2 ... 199997 199998 199999]\n"
     ]
    }
   ],
   "source": [
    "for fold, (trn_idx, val_idx) in enumerate(skf.split(train_df, train_df['target'])):\n",
    "    print(trn_idx)\n",
    "    \n",
    "    X_train, y_train = train_df.iloc[trn_idx][features], train_df.iloc[trn_idx]['target']\n",
    "    X_valid, y_valid = train_df.iloc[val_idx][features], train_df.iloc[val_idx]['target']"
   ]
  },
  {
   "cell_type": "code",
   "execution_count": 66,
   "metadata": {},
   "outputs": [],
   "source": [
    "trn_idx = [1, 2, 199997]"
   ]
  },
  {
   "cell_type": "code",
   "execution_count": 67,
   "metadata": {},
   "outputs": [],
   "source": [
    "X_train, y_train = train_df.iloc[trn_idx][features], train_df.iloc[trn_idx]['target']"
   ]
  },
  {
   "cell_type": "code",
   "execution_count": 69,
   "metadata": {},
   "outputs": [
    {
     "data": {
      "text/plain": [
       "1         0\n",
       "2         0\n",
       "199997    0\n",
       "Name: target, dtype: int64"
      ]
     },
     "execution_count": 69,
     "metadata": {},
     "output_type": "execute_result"
    }
   ],
   "source": [
    "y_train"
   ]
  },
  {
   "cell_type": "code",
   "execution_count": 70,
   "metadata": {},
   "outputs": [
    {
     "data": {
      "text/plain": [
       "array([[ 1.15006e+01, -4.14730e+00,  1.38588e+01,  5.38900e+00,\n",
       "         1.23622e+01,  7.04330e+00,  5.62080e+00,  1.65338e+01,\n",
       "         3.14680e+00,  8.08510e+00, -4.03200e-01,  8.05850e+00,\n",
       "         1.40239e+01,  8.41350e+00,  5.43450e+00,  1.37003e+01,\n",
       "         1.38275e+01, -1.55849e+01,  7.80000e+00,  2.85708e+01,\n",
       "         3.42870e+00,  2.74070e+00,  8.55240e+00,  3.37160e+00,\n",
       "         6.97790e+00,  1.38910e+01, -1.17684e+01, -2.55860e+00,\n",
       "         5.04640e+00,  5.48100e-01, -9.29870e+00,  7.87550e+00,\n",
       "         1.28590e+00,  1.93710e+01,  1.13702e+01,  7.39900e-01,\n",
       "         2.79950e+00,  5.84340e+00,  1.08160e+01,  3.67830e+00,\n",
       "        -1.11147e+01,  1.87300e+00,  9.87750e+00,  1.17842e+01,\n",
       "         1.24440e+00, -4.73797e+01,  7.37180e+00,  1.94800e-01,\n",
       "         3.44014e+01,  2.57037e+01,  1.18343e+01,  1.32256e+01,\n",
       "        -4.10830e+00,  6.68850e+00, -8.09460e+00,  1.85995e+01,\n",
       "         1.93219e+01,  7.01180e+00,  1.92100e+00,  8.86820e+00,\n",
       "         8.01090e+00, -7.24170e+00,  1.79440e+00, -1.31470e+00,\n",
       "         8.10420e+00,  1.53650e+00,  5.40070e+00,  7.93440e+00,\n",
       "         5.02200e+00,  2.23020e+00,  4.05632e+01,  5.13400e-01,\n",
       "         3.17010e+00,  2.01068e+01,  7.78410e+00,  7.05290e+00,\n",
       "         3.27090e+00,  2.34822e+01,  5.50750e+00,  1.37814e+01,\n",
       "         2.54620e+00,  1.81782e+01,  3.68300e-01, -4.82100e+00,\n",
       "        -5.48500e+00,  1.37867e+01, -1.35901e+01,  1.10993e+01,\n",
       "         7.90220e+00,  1.22301e+01,  4.76800e-01,  6.88520e+00,\n",
       "         8.09050e+00,  1.09631e+01,  1.17569e+01, -1.27220e+00,\n",
       "         2.47876e+01,  2.66881e+01,  1.89440e+00,  6.93900e-01,\n",
       "        -1.36950e+01,  8.40680e+00,  3.54734e+01,  1.70930e+00,\n",
       "         1.51866e+01,  2.62270e+00,  7.34120e+00,  3.20888e+01,\n",
       "         1.39550e+01,  1.30858e+01,  6.62030e+00,  7.10510e+00,\n",
       "         5.35230e+00,  8.54260e+00,  3.61590e+00,  4.15690e+00,\n",
       "         3.04540e+00,  7.85220e+00, -1.15100e+01,  7.51090e+00,\n",
       "         3.15899e+01,  9.50180e+00,  8.27360e+00,  1.01633e+01,\n",
       "         1.22500e-01,  1.25942e+01,  1.45697e+01,  2.43540e+00,\n",
       "         8.19400e-01,  1.65346e+01,  1.24205e+01, -1.78000e-01,\n",
       "         5.75820e+00,  7.05130e+00,  1.95680e+00, -8.99210e+00,\n",
       "         9.77970e+00,  1.81577e+01, -1.97210e+00,  1.61622e+01,\n",
       "         3.69370e+00,  6.68030e+00, -3.24300e-01,  1.22806e+01,\n",
       "         8.60860e+00,  1.10738e+01,  8.92310e+00,  1.17700e+01,\n",
       "         4.25780e+00, -4.42230e+00,  2.06294e+01,  1.48743e+01,\n",
       "         9.43170e+00,  1.67242e+01, -5.68700e-01,  1.89800e-01,\n",
       "         1.22419e+01, -9.69530e+00,  2.23949e+01,  1.06261e+01,\n",
       "         2.94846e+01,  5.86830e+00,  3.82080e+00,  1.58348e+01,\n",
       "        -5.01210e+00,  1.51345e+01,  3.20030e+00,  9.31920e+00,\n",
       "         3.88210e+00,  5.79990e+00,  5.53780e+00,  5.09880e+00,\n",
       "         2.20330e+01,  5.51340e+00,  3.02645e+01,  1.04968e+01,\n",
       "        -7.23520e+00,  1.65721e+01, -7.34770e+00,  1.10752e+01,\n",
       "        -5.59370e+00,  9.48780e+00, -1.49100e+01,  9.42450e+00,\n",
       "         2.25441e+01, -4.86220e+00,  7.65430e+00, -1.59319e+01,\n",
       "         1.33175e+01, -3.56600e-01,  7.64210e+00,  7.72140e+00,\n",
       "         2.58370e+00,  1.09516e+01,  1.54305e+01,  2.03390e+00,\n",
       "         8.12670e+00,  8.78890e+00,  1.83560e+01,  1.95180e+00],\n",
       "       [ 8.60930e+00, -2.74570e+00,  1.20805e+01,  7.89280e+00,\n",
       "         1.05825e+01, -9.08370e+00,  6.94270e+00,  1.46155e+01,\n",
       "        -4.91930e+00,  5.95250e+00, -3.24900e-01, -1.12648e+01,\n",
       "         1.41929e+01,  7.31240e+00,  7.52440e+00,  1.46472e+01,\n",
       "         7.67820e+00, -1.73950e+00,  4.70110e+00,  2.04775e+01,\n",
       "         1.77559e+01,  1.81377e+01,  1.21450e+00,  3.51370e+00,\n",
       "         5.67770e+00,  1.32177e+01, -7.99400e+00, -2.90290e+00,\n",
       "         5.84630e+00,  6.14390e+00, -1.11025e+01,  1.24858e+01,\n",
       "        -2.28710e+00,  1.90422e+01,  1.10449e+01,  4.10870e+00,\n",
       "         4.69740e+00,  6.93460e+00,  1.08917e+01,  9.00300e-01,\n",
       "        -1.35174e+01,  2.24390e+00,  1.15283e+01,  1.20406e+01,\n",
       "         4.10060e+00, -7.90780e+00,  1.11405e+01, -5.78640e+00,\n",
       "         2.07477e+01,  6.88740e+00,  1.29143e+01,  1.95856e+01,\n",
       "         7.26800e-01,  6.40590e+00,  9.31240e+00,  6.28460e+00,\n",
       "         1.56372e+01,  5.82000e+00,  1.10000e+00,  9.18540e+00,\n",
       "         1.25963e+01, -1.03734e+01,  8.74800e-01,  5.80420e+00,\n",
       "         3.71630e+00, -1.10160e+00,  7.36670e+00,  9.85650e+00,\n",
       "         5.02280e+00, -5.78280e+00,  2.36120e+00,  8.52000e-01,\n",
       "         6.35770e+00,  1.21719e+01,  1.97312e+01,  1.94465e+01,\n",
       "         4.50480e+00,  2.32378e+01,  6.31910e+00,  1.28046e+01,\n",
       "         7.47290e+00,  1.57811e+01,  1.33529e+01,  1.01852e+01,\n",
       "         5.46040e+00,  1.90773e+01, -4.45770e+00,  9.54130e+00,\n",
       "         1.19052e+01,  2.14470e+00, -2.24038e+01,  7.08830e+00,\n",
       "         1.41613e+01,  1.05080e+01,  1.42621e+01,  2.64700e-01,\n",
       "         2.04031e+01,  1.70360e+01,  1.69810e+00, -2.69000e-02,\n",
       "        -3.93900e-01,  1.26317e+01,  1.48863e+01,  1.38540e+00,\n",
       "         1.50284e+01,  3.99950e+00,  5.36830e+00,  8.62730e+00,\n",
       "         1.41963e+01,  2.03882e+01,  3.23040e+00,  5.70330e+00,\n",
       "         4.52550e+00,  2.19290e+00,  3.12900e+00,  2.90440e+00,\n",
       "         1.16960e+00,  2.87632e+01, -1.72738e+01,  2.10560e+00,\n",
       "         2.11613e+01,  8.95730e+00,  2.77680e+00, -2.17460e+00,\n",
       "         3.69320e+00,  1.24653e+01,  1.41978e+01, -2.55110e+00,\n",
       "        -9.47900e-01,  1.71092e+01,  1.15419e+01,  9.75000e-02,\n",
       "         8.81860e+00,  6.62310e+00,  3.93580e+00, -1.17218e+01,\n",
       "         2.45437e+01,  1.55827e+01,  3.82120e+00,  8.66740e+00,\n",
       "         7.38340e+00, -2.44380e+00,  1.02158e+01,  7.48440e+00,\n",
       "         9.11040e+00,  4.36490e+00,  1.14934e+01,  1.76240e+00,\n",
       "         4.07140e+00, -1.26810e+00,  1.43330e+01,  8.00880e+00,\n",
       "         4.40150e+00,  1.41479e+01, -5.17470e+00,  5.77800e-01,\n",
       "         1.45362e+01, -1.76240e+00,  3.38820e+01,  1.16041e+01,\n",
       "         1.32070e+01,  5.84420e+00,  4.70860e+00,  5.71410e+00,\n",
       "        -1.04100e+00,  2.05092e+01,  3.27900e+00, -5.59520e+00,\n",
       "         7.31760e+00,  5.76900e+00, -7.09270e+00, -3.91160e+00,\n",
       "         7.25690e+00, -5.82340e+00,  2.56820e+01,  1.09202e+01,\n",
       "        -3.10400e-01,  8.84380e+00, -9.70090e+00,  2.40130e+00,\n",
       "        -4.29350e+00,  9.39080e+00, -1.32648e+01,  3.15450e+00,\n",
       "         2.30866e+01, -5.30000e+00,  5.37450e+00, -6.26600e+00,\n",
       "         1.01934e+01, -8.41700e-01,  2.90570e+00,  9.79050e+00,\n",
       "         1.67040e+00,  1.68580e+00,  2.16042e+01,  3.14170e+00,\n",
       "        -6.52130e+00,  8.26750e+00,  1.47222e+01,  3.96500e-01],\n",
       "       [ 1.12232e+01, -5.05180e+00,  1.05127e+01,  5.64560e+00,\n",
       "         9.34100e+00, -5.40860e+00,  4.55550e+00,  2.15571e+01,\n",
       "         1.20200e-01,  6.16290e+00,  4.40040e+00, -4.65100e-01,\n",
       "         1.38775e+01,  9.74140e+00,  1.09044e+01,  1.45597e+01,\n",
       "         9.62140e+00, -1.64290e+00,  2.31127e+01,  1.21517e+01,\n",
       "         1.62577e+01,  3.14530e+00,  3.10080e+00,  2.14970e+00,\n",
       "         1.02715e+01,  1.35637e+01,  4.94730e+00, -9.90500e-01,\n",
       "         6.28010e+00,  9.49020e+00, -1.28549e+01,  1.10403e+01,\n",
       "         1.43060e+00,  1.38533e+01,  1.17484e+01,  6.89690e+00,\n",
       "         6.41620e+00,  3.42460e+00,  1.21170e+01,  3.40960e+00,\n",
       "        -8.87630e+00,  9.52300e+00,  1.12566e+01,  1.14025e+01,\n",
       "         1.18492e+01, -4.95007e+01,  7.43760e+00, -2.12946e+01,\n",
       "         1.65701e+01,  1.59192e+01,  1.14688e+01,  1.63800e+01,\n",
       "        -5.71520e+00,  6.07710e+00,  7.51940e+00,  9.63640e+00,\n",
       "         1.53166e+01,  5.48300e+00,  6.00600e-01,  9.54660e+00,\n",
       "         2.20960e+01, -6.78130e+00,  3.68700e+00, -4.03870e+00,\n",
       "         5.81010e+00,  3.77930e+00,  5.77820e+00,  1.45730e+01,\n",
       "         5.00750e+00, -1.01040e+00,  2.56050e+01,  2.65500e-01,\n",
       "         3.38220e+00,  1.34685e+01,  1.08834e+01,  9.26570e+00,\n",
       "        -4.19480e+00,  1.21229e+01,  7.59490e+00,  1.19158e+01,\n",
       "         1.19537e+01,  1.69399e+01, -2.26430e+00, -3.36580e+00,\n",
       "         6.40200e+00,  1.82095e+01,  1.74710e+01,  6.33490e+00,\n",
       "         7.47400e+00,  4.80240e+00, -3.34500e-01,  7.02950e+00,\n",
       "         1.65425e+01,  1.05645e+01,  1.27330e+01, -9.94600e-01,\n",
       "         2.37210e+01,  1.12390e+01,  1.00120e+00, -1.10830e+00,\n",
       "        -8.05740e+00,  1.00606e+01,  2.52535e+01,  1.80190e+00,\n",
       "         1.04973e+01,  4.21830e+00,  9.11580e+00,  1.01525e+01,\n",
       "         1.40837e+01,  1.52503e+01,  3.47970e+00,  8.79010e+00,\n",
       "         2.90000e+00,  6.47100e-01,  2.33160e+00,  1.50840e+00,\n",
       "         2.88800e-01,  4.30307e+01, -4.45430e+00,  3.27650e+00,\n",
       "         2.82664e+01,  1.21189e+01,  3.15260e+00,  1.42214e+01,\n",
       "         3.38780e+00,  1.32410e+01,  1.29788e+01,  4.57660e+00,\n",
       "        -4.85120e+00,  1.66344e+01,  1.23827e+01,  5.29300e-01,\n",
       "         8.05880e+00,  7.10810e+00, -9.23170e+00, -1.19277e+01,\n",
       "         2.05706e+01,  2.25568e+01,  3.06650e+00,  1.05270e+00,\n",
       "         7.40110e+00,  4.33670e+00,  1.42420e+00,  1.13654e+01,\n",
       "         9.18120e+00,  2.76270e+00,  1.22434e+01, -2.42000e-01,\n",
       "         4.15750e+00,  4.79960e+00,  2.06307e+01,  1.02890e+01,\n",
       "         5.68900e+00,  1.34601e+01, -9.77400e-01,  2.37280e+00,\n",
       "         1.17245e+01, -9.63850e+00,  1.73101e+01,  1.40422e+01,\n",
       "         1.99293e+01,  5.34270e+00,  5.47760e+00,  1.31202e+01,\n",
       "         5.35000e+00,  3.17346e+01,  3.16930e+00, -1.94779e+01,\n",
       "         6.80530e+00,  5.62810e+00, -8.77400e-01, -8.95080e+00,\n",
       "         1.74931e+01, -1.65300e+00,  3.20032e+01,  1.25749e+01,\n",
       "         5.87560e+00,  8.80590e+00, -1.06367e+01,  5.44010e+00,\n",
       "        -1.27967e+01,  8.79900e+00,  7.02100e-01,  1.49744e+01,\n",
       "         1.89211e+01,  3.01600e-01,  1.12869e+01, -6.37410e+00,\n",
       "         1.29726e+01,  2.34250e+00,  4.06510e+00,  5.44140e+00,\n",
       "         3.10320e+00,  4.87930e+00,  2.35311e+01, -1.57360e+00,\n",
       "         1.28320e+00,  8.71550e+00,  1.38329e+01,  4.19950e+00]])"
      ]
     },
     "execution_count": 70,
     "metadata": {},
     "output_type": "execute_result"
    }
   ],
   "source": [
    "X_train.values"
   ]
  },
  {
   "cell_type": "code",
   "execution_count": 71,
   "metadata": {},
   "outputs": [
    {
     "data": {
      "text/plain": [
       "array([0, 0, 0], dtype=int64)"
      ]
     },
     "execution_count": 71,
     "metadata": {},
     "output_type": "execute_result"
    }
   ],
   "source": [
    "y_train.values"
   ]
  },
  {
   "cell_type": "code",
   "execution_count": 72,
   "metadata": {},
   "outputs": [],
   "source": [
    "X_t, y_t = augment(X_train.values, y_train.values)"
   ]
  },
  {
   "cell_type": "code",
   "execution_count": 73,
   "metadata": {},
   "outputs": [
    {
     "data": {
      "text/plain": [
       "array([[11.5006, -4.1473, 13.8588, ...,  8.7889, 18.356 ,  1.9518],\n",
       "       [ 8.6093, -2.7457, 12.0805, ...,  8.2675, 14.7222,  0.3965],\n",
       "       [11.2232, -5.0518, 10.5127, ...,  8.7155, 13.8329,  4.1995],\n",
       "       [11.5006, -2.7457, 13.8588, ...,  8.7889, 13.8329,  4.1995],\n",
       "       [11.2232, -5.0518, 10.5127, ...,  8.7155, 14.7222,  0.3965],\n",
       "       [ 8.6093, -4.1473, 12.0805, ...,  8.2675, 18.356 ,  1.9518]])"
      ]
     },
     "execution_count": 73,
     "metadata": {},
     "output_type": "execute_result"
    }
   ],
   "source": [
    "X_t"
   ]
  },
  {
   "cell_type": "code",
   "execution_count": 74,
   "metadata": {},
   "outputs": [
    {
     "data": {
      "text/plain": [
       "200"
      ]
     },
     "execution_count": 74,
     "metadata": {},
     "output_type": "execute_result"
    }
   ],
   "source": [
    "len(X_train.values[0])"
   ]
  },
  {
   "cell_type": "code",
   "execution_count": 60,
   "metadata": {},
   "outputs": [
    {
     "data": {
      "text/plain": [
       "200"
      ]
     },
     "execution_count": 60,
     "metadata": {},
     "output_type": "execute_result"
    }
   ],
   "source": [
    "len(X_t[0])"
   ]
  },
  {
   "cell_type": "markdown",
   "metadata": {},
   "source": [
    "Hyperparameters of the model:"
   ]
  },
  {
   "cell_type": "code",
   "execution_count": 75,
   "metadata": {},
   "outputs": [],
   "source": [
    "params = {\n",
    "    \"objective\" : \"binary\", \n",
    "    \"metric\" : \"auc\", \n",
    "    \"boosting\": 'gbdt', \n",
    "    \"max_depth\" : -1, \"num_leaves\" : 13,\n",
    "    \"learning_rate\" : 0.01, \n",
    "    \"bagging_freq\": 5, \n",
    "    \"bagging_fraction\" : 0.4, \n",
    "    \"feature_fraction\" : 0.05,\n",
    "    \"min_data_in_leaf\": 80, \n",
    "    \"min_sum_heassian_in_leaf\": 10, \n",
    "    \"tree_learner\": \"serial\", \n",
    "    \"boost_from_average\": \"false\",\n",
    "    \"bagging_seed\" : random_state, \n",
    "    \"verbosity\" : 1, \n",
    "    \"seed\": random_state\n",
    "}"
   ]
  },
  {
   "cell_type": "markdown",
   "metadata": {},
   "source": [
    "StratifiedKFold provides train/test indices to split data in train/test sets.\n",
    "\n",
    "This cross-validation object is a variation of KFold that returns stratified folds. The folds are made by preserving the percentage of samples for each class."
   ]
  },
  {
   "cell_type": "code",
   "execution_count": 78,
   "metadata": {},
   "outputs": [],
   "source": [
    "skf = StratifiedKFold(n_splits = 5, shuffle = True, random_state = random_state)"
   ]
  },
  {
   "cell_type": "markdown",
   "metadata": {},
   "source": [
    "oof stand for 'out-of-fold' exaplained in the 16:40 of this video: https://www.youtube.com/watch?v=V5158Oug4W8\n",
    "\n",
    "oof uses information from **other** fold in the current fold of the cross-validation.\n",
    "It prevents from using the **actual** target values and, in a certain way, it prevents from overfitting.  "
   ]
  },
  {
   "cell_type": "code",
   "execution_count": 86,
   "metadata": {},
   "outputs": [
    {
     "data": {
      "text/html": [
       "<div>\n",
       "<style scoped>\n",
       "    .dataframe tbody tr th:only-of-type {\n",
       "        vertical-align: middle;\n",
       "    }\n",
       "\n",
       "    .dataframe tbody tr th {\n",
       "        vertical-align: top;\n",
       "    }\n",
       "\n",
       "    .dataframe thead th {\n",
       "        text-align: right;\n",
       "    }\n",
       "</style>\n",
       "<table border=\"1\" class=\"dataframe\">\n",
       "  <thead>\n",
       "    <tr style=\"text-align: right;\">\n",
       "      <th></th>\n",
       "      <th>ID_code</th>\n",
       "      <th>target</th>\n",
       "      <th>predict</th>\n",
       "    </tr>\n",
       "  </thead>\n",
       "  <tbody>\n",
       "    <tr>\n",
       "      <th>0</th>\n",
       "      <td>train_0</td>\n",
       "      <td>0</td>\n",
       "      <td>0</td>\n",
       "    </tr>\n",
       "    <tr>\n",
       "      <th>1</th>\n",
       "      <td>train_1</td>\n",
       "      <td>0</td>\n",
       "      <td>0</td>\n",
       "    </tr>\n",
       "    <tr>\n",
       "      <th>2</th>\n",
       "      <td>train_2</td>\n",
       "      <td>0</td>\n",
       "      <td>0</td>\n",
       "    </tr>\n",
       "    <tr>\n",
       "      <th>3</th>\n",
       "      <td>train_3</td>\n",
       "      <td>0</td>\n",
       "      <td>0</td>\n",
       "    </tr>\n",
       "    <tr>\n",
       "      <th>4</th>\n",
       "      <td>train_4</td>\n",
       "      <td>0</td>\n",
       "      <td>0</td>\n",
       "    </tr>\n",
       "  </tbody>\n",
       "</table>\n",
       "</div>"
      ],
      "text/plain": [
       "   ID_code  target  predict\n",
       "0  train_0       0        0\n",
       "1  train_1       0        0\n",
       "2  train_2       0        0\n",
       "3  train_3       0        0\n",
       "4  train_4       0        0"
      ]
     },
     "execution_count": 86,
     "metadata": {},
     "output_type": "execute_result"
    }
   ],
   "source": [
    "oof = train_df[['ID_code', 'target']]\n",
    "oof['predict'] = 0\n",
    "oof.head()"
   ]
  },
  {
   "cell_type": "code",
   "execution_count": 159,
   "metadata": {},
   "outputs": [
    {
     "data": {
      "text/html": [
       "<div>\n",
       "<style scoped>\n",
       "    .dataframe tbody tr th:only-of-type {\n",
       "        vertical-align: middle;\n",
       "    }\n",
       "\n",
       "    .dataframe tbody tr th {\n",
       "        vertical-align: top;\n",
       "    }\n",
       "\n",
       "    .dataframe thead th {\n",
       "        text-align: right;\n",
       "    }\n",
       "</style>\n",
       "<table border=\"1\" class=\"dataframe\">\n",
       "  <thead>\n",
       "    <tr style=\"text-align: right;\">\n",
       "      <th></th>\n",
       "      <th>ID_code</th>\n",
       "    </tr>\n",
       "  </thead>\n",
       "  <tbody>\n",
       "    <tr>\n",
       "      <th>0</th>\n",
       "      <td>test_0</td>\n",
       "    </tr>\n",
       "    <tr>\n",
       "      <th>1</th>\n",
       "      <td>test_1</td>\n",
       "    </tr>\n",
       "    <tr>\n",
       "      <th>2</th>\n",
       "      <td>test_2</td>\n",
       "    </tr>\n",
       "    <tr>\n",
       "      <th>3</th>\n",
       "      <td>test_3</td>\n",
       "    </tr>\n",
       "    <tr>\n",
       "      <th>4</th>\n",
       "      <td>test_4</td>\n",
       "    </tr>\n",
       "  </tbody>\n",
       "</table>\n",
       "</div>"
      ],
      "text/plain": [
       "  ID_code\n",
       "0  test_0\n",
       "1  test_1\n",
       "2  test_2\n",
       "3  test_3\n",
       "4  test_4"
      ]
     },
     "execution_count": 159,
     "metadata": {},
     "output_type": "execute_result"
    }
   ],
   "source": [
    "predictions = test_df[['ID_code']]\n",
    "predictions.head()"
   ]
  },
  {
   "cell_type": "code",
   "execution_count": 92,
   "metadata": {},
   "outputs": [
    {
     "data": {
      "text/plain": [
       "array([[ 11.0656,   7.7798,  12.9536, ...,  10.72  ,  15.4722,  -8.7197],\n",
       "       [  8.5304,   1.2543,  11.3047, ...,   9.8714,  19.1293, -20.976 ],\n",
       "       [  5.4827, -10.3581,  10.1407, ...,   7.0618,  19.8956, -23.1794],\n",
       "       ...,\n",
       "       [ 11.636 ,   2.2769,  11.2074, ...,   9.1933,  11.7905, -22.2762],\n",
       "       [ 13.5745,  -0.5134,  13.6584, ...,   8.1079,   8.7735,  -0.2122],\n",
       "       [ 10.4664,   1.807 ,  10.2277, ...,  10.3378,  14.334 ,  -7.7094]])"
      ]
     },
     "execution_count": 92,
     "metadata": {},
     "output_type": "execute_result"
    }
   ],
   "source": [
    "# 'features' is the object \n",
    "features = [col for col in train_df.columns if col not in ['target', 'ID_code']]\n",
    "X_test = test_df[features].values\n",
    "X_test"
   ]
  },
  {
   "cell_type": "markdown",
   "metadata": {},
   "source": [
    "Now the actual fitting starts. The iteration is under the fold index and the train and test indices. The **skf.split** function generates indices to split data into training and test set.\n",
    "\n",
    "val_idx is the **VALIDATION** index. That is, the test idx."
   ]
  },
  {
   "cell_type": "code",
   "execution_count": 93,
   "metadata": {},
   "outputs": [
    {
     "name": "stdout",
     "output_type": "stream",
     "text": [
      "0\n",
      "1\n",
      "2\n",
      "3\n",
      "4\n"
     ]
    }
   ],
   "source": [
    "for fold, (trn_idx, val_idx) in enumerate(skf.split(train_df, train_df['target'])):\n",
    "    print(fold)"
   ]
  },
  {
   "cell_type": "code",
   "execution_count": 94,
   "metadata": {},
   "outputs": [
    {
     "name": "stdout",
     "output_type": "stream",
     "text": [
      "[     1      2      3 ... 199996 199997 199999]\n",
      "[     0      1      2 ... 199997 199998 199999]\n",
      "[     0      1      2 ... 199996 199998 199999]\n",
      "[     0      3      4 ... 199996 199997 199998]\n",
      "[     0      1      2 ... 199997 199998 199999]\n"
     ]
    }
   ],
   "source": [
    "for fold, (trn_idx, val_idx) in enumerate(skf.split(train_df, train_df['target'])):\n",
    "    print(trn_idx)"
   ]
  },
  {
   "cell_type": "code",
   "execution_count": 95,
   "metadata": {},
   "outputs": [
    {
     "name": "stdout",
     "output_type": "stream",
     "text": [
      "[     0     11     12 ... 199988 199992 199998]\n",
      "[     4     24     32 ... 199993 199994 199996]\n",
      "[     3      8     15 ... 199979 199980 199997]\n",
      "[     1      2      6 ... 199983 199991 199999]\n",
      "[     5     10     16 ... 199989 199990 199995]\n"
     ]
    }
   ],
   "source": [
    "for fold, (trn_idx, val_idx) in enumerate(skf.split(train_df, train_df['target'])):\n",
    "    print(val_idx)"
   ]
  },
  {
   "cell_type": "markdown",
   "metadata": {},
   "source": [
    "### Let's inspect the first iteration of the for loop:"
   ]
  },
  {
   "cell_type": "markdown",
   "metadata": {},
   "source": [
    "Extracting the first indexes."
   ]
  },
  {
   "cell_type": "code",
   "execution_count": 109,
   "metadata": {},
   "outputs": [],
   "source": [
    "first_fold_idx = list(enumerate(skf.split(train_df, train_df['target'])))[0][0]\n",
    "first_trn_idx  = list(enumerate(skf.split(train_df, train_df['target'])))[0][1][0]\n",
    "first_val_idx  = list(enumerate(skf.split(train_df, train_df['target'])))[0][1][1]"
   ]
  },
  {
   "cell_type": "markdown",
   "metadata": {},
   "source": [
    "Extract each mutually exclusive chunk of this iteration."
   ]
  },
  {
   "cell_type": "code",
   "execution_count": 113,
   "metadata": {},
   "outputs": [],
   "source": [
    "X_train, y_train = train_df.iloc[first_trn_idx][features], train_df.iloc[first_trn_idx]['target']\n",
    "X_valid, y_valid = train_df.iloc[first_val_idx][features], train_df.iloc[first_val_idx]['target']"
   ]
  },
  {
   "cell_type": "code",
   "execution_count": 115,
   "metadata": {},
   "outputs": [
    {
     "data": {
      "text/plain": [
       "(159999, 200)"
      ]
     },
     "execution_count": 115,
     "metadata": {},
     "output_type": "execute_result"
    }
   ],
   "source": [
    "X_train.shape"
   ]
  },
  {
   "cell_type": "code",
   "execution_count": 116,
   "metadata": {},
   "outputs": [],
   "source": [
    "# Changing the original object names: p_valid,yp\n",
    "N = 3\n",
    "y_pred_valid, y_pred_test = 0,0"
   ]
  },
  {
   "cell_type": "markdown",
   "metadata": {},
   "source": [
    "And then the code iterates 3 times over an index that it is not used"
   ]
  },
  {
   "cell_type": "code",
   "execution_count": null,
   "metadata": {},
   "outputs": [],
   "source": [
    "# for i in range(N):"
   ]
  },
  {
   "cell_type": "markdown",
   "metadata": {},
   "source": [
    "Augmenting the data (**data augmentation**)! https://www.kaggle.com/dansbecker/data-augmentation"
   ]
  },
  {
   "cell_type": "code",
   "execution_count": 118,
   "metadata": {},
   "outputs": [
    {
     "data": {
      "text/html": [
       "<div>\n",
       "<style scoped>\n",
       "    .dataframe tbody tr th:only-of-type {\n",
       "        vertical-align: middle;\n",
       "    }\n",
       "\n",
       "    .dataframe tbody tr th {\n",
       "        vertical-align: top;\n",
       "    }\n",
       "\n",
       "    .dataframe thead th {\n",
       "        text-align: right;\n",
       "    }\n",
       "</style>\n",
       "<table border=\"1\" class=\"dataframe\">\n",
       "  <thead>\n",
       "    <tr style=\"text-align: right;\">\n",
       "      <th></th>\n",
       "      <th>var_0</th>\n",
       "      <th>var_1</th>\n",
       "      <th>var_2</th>\n",
       "      <th>var_3</th>\n",
       "      <th>var_4</th>\n",
       "      <th>var_5</th>\n",
       "      <th>var_6</th>\n",
       "      <th>var_7</th>\n",
       "      <th>var_8</th>\n",
       "      <th>var_9</th>\n",
       "      <th>...</th>\n",
       "      <th>var_190</th>\n",
       "      <th>var_191</th>\n",
       "      <th>var_192</th>\n",
       "      <th>var_193</th>\n",
       "      <th>var_194</th>\n",
       "      <th>var_195</th>\n",
       "      <th>var_196</th>\n",
       "      <th>var_197</th>\n",
       "      <th>var_198</th>\n",
       "      <th>var_199</th>\n",
       "    </tr>\n",
       "  </thead>\n",
       "  <tbody>\n",
       "    <tr>\n",
       "      <th>0</th>\n",
       "      <td>11.5006</td>\n",
       "      <td>-4.1473</td>\n",
       "      <td>13.8588</td>\n",
       "      <td>5.3890</td>\n",
       "      <td>12.3622</td>\n",
       "      <td>7.0433</td>\n",
       "      <td>5.6208</td>\n",
       "      <td>16.5338</td>\n",
       "      <td>3.1468</td>\n",
       "      <td>8.0851</td>\n",
       "      <td>...</td>\n",
       "      <td>7.6421</td>\n",
       "      <td>7.7214</td>\n",
       "      <td>2.5837</td>\n",
       "      <td>10.9516</td>\n",
       "      <td>15.4305</td>\n",
       "      <td>2.0339</td>\n",
       "      <td>8.1267</td>\n",
       "      <td>8.7889</td>\n",
       "      <td>18.3560</td>\n",
       "      <td>1.9518</td>\n",
       "    </tr>\n",
       "    <tr>\n",
       "      <th>1</th>\n",
       "      <td>8.6093</td>\n",
       "      <td>-2.7457</td>\n",
       "      <td>12.0805</td>\n",
       "      <td>7.8928</td>\n",
       "      <td>10.5825</td>\n",
       "      <td>-9.0837</td>\n",
       "      <td>6.9427</td>\n",
       "      <td>14.6155</td>\n",
       "      <td>-4.9193</td>\n",
       "      <td>5.9525</td>\n",
       "      <td>...</td>\n",
       "      <td>2.9057</td>\n",
       "      <td>9.7905</td>\n",
       "      <td>1.6704</td>\n",
       "      <td>1.6858</td>\n",
       "      <td>21.6042</td>\n",
       "      <td>3.1417</td>\n",
       "      <td>-6.5213</td>\n",
       "      <td>8.2675</td>\n",
       "      <td>14.7222</td>\n",
       "      <td>0.3965</td>\n",
       "    </tr>\n",
       "    <tr>\n",
       "      <th>2</th>\n",
       "      <td>11.0604</td>\n",
       "      <td>-2.1518</td>\n",
       "      <td>8.9522</td>\n",
       "      <td>7.1957</td>\n",
       "      <td>12.5846</td>\n",
       "      <td>-1.8361</td>\n",
       "      <td>5.8428</td>\n",
       "      <td>14.9250</td>\n",
       "      <td>-5.8609</td>\n",
       "      <td>8.2450</td>\n",
       "      <td>...</td>\n",
       "      <td>4.4666</td>\n",
       "      <td>4.7433</td>\n",
       "      <td>0.7178</td>\n",
       "      <td>1.4214</td>\n",
       "      <td>23.0347</td>\n",
       "      <td>-1.2706</td>\n",
       "      <td>-2.9275</td>\n",
       "      <td>10.2922</td>\n",
       "      <td>17.9697</td>\n",
       "      <td>-8.9996</td>\n",
       "    </tr>\n",
       "    <tr>\n",
       "      <th>3</th>\n",
       "      <td>9.8369</td>\n",
       "      <td>-1.4834</td>\n",
       "      <td>12.8746</td>\n",
       "      <td>6.6375</td>\n",
       "      <td>12.2772</td>\n",
       "      <td>2.4486</td>\n",
       "      <td>5.9405</td>\n",
       "      <td>19.2514</td>\n",
       "      <td>6.2654</td>\n",
       "      <td>7.6784</td>\n",
       "      <td>...</td>\n",
       "      <td>-1.4905</td>\n",
       "      <td>9.5214</td>\n",
       "      <td>-0.1508</td>\n",
       "      <td>9.1942</td>\n",
       "      <td>13.2876</td>\n",
       "      <td>-1.5121</td>\n",
       "      <td>3.9267</td>\n",
       "      <td>9.5031</td>\n",
       "      <td>17.9974</td>\n",
       "      <td>-8.8104</td>\n",
       "    </tr>\n",
       "    <tr>\n",
       "      <th>4</th>\n",
       "      <td>11.4763</td>\n",
       "      <td>-2.3182</td>\n",
       "      <td>12.6080</td>\n",
       "      <td>8.6264</td>\n",
       "      <td>10.9621</td>\n",
       "      <td>3.5609</td>\n",
       "      <td>4.5322</td>\n",
       "      <td>15.2255</td>\n",
       "      <td>3.5855</td>\n",
       "      <td>5.9790</td>\n",
       "      <td>...</td>\n",
       "      <td>-6.3068</td>\n",
       "      <td>6.6025</td>\n",
       "      <td>5.2912</td>\n",
       "      <td>0.4403</td>\n",
       "      <td>14.9452</td>\n",
       "      <td>1.0314</td>\n",
       "      <td>-3.6241</td>\n",
       "      <td>9.7670</td>\n",
       "      <td>12.5809</td>\n",
       "      <td>-4.7602</td>\n",
       "    </tr>\n",
       "  </tbody>\n",
       "</table>\n",
       "<p>5 rows × 200 columns</p>\n",
       "</div>"
      ],
      "text/plain": [
       "     var_0   var_1    var_2   var_3    var_4   var_5   var_6    var_7   var_8  \\\n",
       "0  11.5006 -4.1473  13.8588  5.3890  12.3622  7.0433  5.6208  16.5338  3.1468   \n",
       "1   8.6093 -2.7457  12.0805  7.8928  10.5825 -9.0837  6.9427  14.6155 -4.9193   \n",
       "2  11.0604 -2.1518   8.9522  7.1957  12.5846 -1.8361  5.8428  14.9250 -5.8609   \n",
       "3   9.8369 -1.4834  12.8746  6.6375  12.2772  2.4486  5.9405  19.2514  6.2654   \n",
       "4  11.4763 -2.3182  12.6080  8.6264  10.9621  3.5609  4.5322  15.2255  3.5855   \n",
       "\n",
       "    var_9   ...     var_190  var_191  var_192  var_193  var_194  var_195  \\\n",
       "0  8.0851   ...      7.6421   7.7214   2.5837  10.9516  15.4305   2.0339   \n",
       "1  5.9525   ...      2.9057   9.7905   1.6704   1.6858  21.6042   3.1417   \n",
       "2  8.2450   ...      4.4666   4.7433   0.7178   1.4214  23.0347  -1.2706   \n",
       "3  7.6784   ...     -1.4905   9.5214  -0.1508   9.1942  13.2876  -1.5121   \n",
       "4  5.9790   ...     -6.3068   6.6025   5.2912   0.4403  14.9452   1.0314   \n",
       "\n",
       "   var_196  var_197  var_198  var_199  \n",
       "0   8.1267   8.7889  18.3560   1.9518  \n",
       "1  -6.5213   8.2675  14.7222   0.3965  \n",
       "2  -2.9275  10.2922  17.9697  -8.9996  \n",
       "3   3.9267   9.5031  17.9974  -8.8104  \n",
       "4  -3.6241   9.7670  12.5809  -4.7602  \n",
       "\n",
       "[5 rows x 200 columns]"
      ]
     },
     "execution_count": 118,
     "metadata": {},
     "output_type": "execute_result"
    }
   ],
   "source": [
    "X_t, y_t = augment(X_train.values, y_train.values)\n",
    "X_t = pd.DataFrame(X_t)\n",
    "X_t = X_t.add_prefix('var_')\n",
    "X_t.head()"
   ]
  },
  {
   "cell_type": "code",
   "execution_count": 119,
   "metadata": {},
   "outputs": [
    {
     "data": {
      "text/plain": [
       "(336076, 200)"
      ]
     },
     "execution_count": 119,
     "metadata": {},
     "output_type": "execute_result"
    }
   ],
   "source": [
    "X_t.shape"
   ]
  },
  {
   "cell_type": "markdown",
   "metadata": {},
   "source": [
    "This is the most important part of the script (this takes some time to run). This is where you train the actual model with the augmented dataset previously built with two specific Dataset class of lightGBM\n",
    "\n",
    "You can type `help(lgb.train)` for more details.\n",
    "\n",
    "**Note that the train_data is inside the valid_sets... This is to calculate the AUC metric for either training data and validation (test) data. The result is going to be printed for the training's auc and valid_1's auc**"
   ]
  },
  {
   "cell_type": "code",
   "execution_count": 123,
   "metadata": {},
   "outputs": [
    {
     "name": "stdout",
     "output_type": "stream",
     "text": [
      "Training until validation scores don't improve for 3000 rounds.\n",
      "[5000]\ttraining's auc: 0.917161\tvalid_1's auc: 0.897945\n",
      "[10000]\ttraining's auc: 0.929624\tvalid_1's auc: 0.900436\n",
      "[15000]\ttraining's auc: 0.939603\tvalid_1's auc: 0.900341\n",
      "Early stopping, best iteration is:\n",
      "[12147]\ttraining's auc: 0.934067\tvalid_1's auc: 0.900487\n"
     ]
    }
   ],
   "source": [
    "trn_data = lgb.Dataset(X_t, label=y_t)\n",
    "val_data = lgb.Dataset(X_valid, label=y_valid)\n",
    "evals_result = {}\n",
    "lgb_clf = lgb.train(params,\n",
    "                    trn_data,\n",
    "                    num_boost_round = 100000,\n",
    "                    valid_sets = [trn_data, val_data], # List of data to be evaluated on during training.\n",
    "                    early_stopping_rounds=3000,\n",
    "                    verbose_eval = 5000,\n",
    "                    evals_result=evals_result)"
   ]
  },
  {
   "cell_type": "markdown",
   "metadata": {},
   "source": [
    "Note that the model estimated is the last one that it is presented under *''best iteration is:''*.\n",
    "\n",
    "Now, we can predict the probability of the outcome as following:"
   ]
  },
  {
   "cell_type": "code",
   "execution_count": 127,
   "metadata": {},
   "outputs": [
    {
     "data": {
      "text/plain": [
       "array([0.01039275, 0.07985715, 0.02033983, ..., 0.00455992, 0.03712945,\n",
       "       0.07780325])"
      ]
     },
     "execution_count": 127,
     "metadata": {},
     "output_type": "execute_result"
    }
   ],
   "source": [
    "# In the code this is += instead of += \n",
    "\n",
    "y_pred_valid = lgb_clf.predict(X_valid) # In the code this is += \n",
    "y_pred_valid"
   ]
  },
  {
   "cell_type": "markdown",
   "metadata": {},
   "source": [
    "... also for the test data:"
   ]
  },
  {
   "cell_type": "code",
   "execution_count": 128,
   "metadata": {},
   "outputs": [
    {
     "data": {
      "text/plain": [
       "array([0.15927169, 0.34433102, 0.23573733, ..., 0.00474793, 0.15390632,\n",
       "       0.08317883])"
      ]
     },
     "execution_count": 128,
     "metadata": {},
     "output_type": "execute_result"
    }
   ],
   "source": [
    "y_pred_test = lgb_clf.predict(X_test) # In the code this is +=\n",
    "y_pred_test"
   ]
  },
  {
   "cell_type": "markdown",
   "metadata": {},
   "source": [
    "IN THE CODE, THE PREDICTED PROBABILITIES ARE BEING SUMMED with the += OPERATOR N TIMES! AND THEN, LATER, THESE PREDICTIONS ARE DIVIDED BY N. THEREFORE, THEY CALCULATED SOME KIND OF AVERAGE OF THE PREDICTED PROBABILITES!"
   ]
  },
  {
   "cell_type": "markdown",
   "metadata": {},
   "source": [
    "Now, after building tre predicted probability vector (which is the sum of N values), it is time to add these values into the oof object (which was previously built with train data)."
   ]
  },
  {
   "cell_type": "code",
   "execution_count": 150,
   "metadata": {},
   "outputs": [
    {
     "data": {
      "text/html": [
       "<div>\n",
       "<style scoped>\n",
       "    .dataframe tbody tr th:only-of-type {\n",
       "        vertical-align: middle;\n",
       "    }\n",
       "\n",
       "    .dataframe tbody tr th {\n",
       "        vertical-align: top;\n",
       "    }\n",
       "\n",
       "    .dataframe thead th {\n",
       "        text-align: right;\n",
       "    }\n",
       "</style>\n",
       "<table border=\"1\" class=\"dataframe\">\n",
       "  <thead>\n",
       "    <tr style=\"text-align: right;\">\n",
       "      <th></th>\n",
       "      <th>ID_code</th>\n",
       "      <th>target</th>\n",
       "      <th>predict</th>\n",
       "    </tr>\n",
       "  </thead>\n",
       "  <tbody>\n",
       "    <tr>\n",
       "      <th>0</th>\n",
       "      <td>train_0</td>\n",
       "      <td>0</td>\n",
       "      <td>0.020786</td>\n",
       "    </tr>\n",
       "    <tr>\n",
       "      <th>1</th>\n",
       "      <td>train_1</td>\n",
       "      <td>0</td>\n",
       "      <td>0.000000</td>\n",
       "    </tr>\n",
       "    <tr>\n",
       "      <th>2</th>\n",
       "      <td>train_2</td>\n",
       "      <td>0</td>\n",
       "      <td>0.000000</td>\n",
       "    </tr>\n",
       "    <tr>\n",
       "      <th>3</th>\n",
       "      <td>train_3</td>\n",
       "      <td>0</td>\n",
       "      <td>0.000000</td>\n",
       "    </tr>\n",
       "    <tr>\n",
       "      <th>4</th>\n",
       "      <td>train_4</td>\n",
       "      <td>0</td>\n",
       "      <td>0.000000</td>\n",
       "    </tr>\n",
       "  </tbody>\n",
       "</table>\n",
       "</div>"
      ],
      "text/plain": [
       "   ID_code  target   predict\n",
       "0  train_0       0  0.020786\n",
       "1  train_1       0  0.000000\n",
       "2  train_2       0  0.000000\n",
       "3  train_3       0  0.000000\n",
       "4  train_4       0  0.000000"
      ]
     },
     "execution_count": 150,
     "metadata": {},
     "output_type": "execute_result"
    }
   ],
   "source": [
    "oof['predict'][first_val_idx] = y_pred_valid / 1 # In the code, the denominator is N.\n",
    "oof.head()"
   ]
  },
  {
   "cell_type": "markdown",
   "metadata": {},
   "source": [
    "In the code, it is just for exploration some summary statistics of all auc's among the folds with `val_aucs.append(val_score)` and then checking mean and std of the `val_aucs` object."
   ]
  },
  {
   "cell_type": "code",
   "execution_count": null,
   "metadata": {},
   "outputs": [],
   "source": [
    "#val_score = roc_auc_score(y_valid, y_pred_valid)\n",
    "#val_score"
   ]
  },
  {
   "cell_type": "markdown",
   "metadata": {},
   "source": [
    "Now we built the predicted probabilities for each of the folds. Later, we use each of the values to take the mean of these probabilities to submit."
   ]
  },
  {
   "cell_type": "code",
   "execution_count": 161,
   "metadata": {},
   "outputs": [
    {
     "data": {
      "text/html": [
       "<div>\n",
       "<style scoped>\n",
       "    .dataframe tbody tr th:only-of-type {\n",
       "        vertical-align: middle;\n",
       "    }\n",
       "\n",
       "    .dataframe tbody tr th {\n",
       "        vertical-align: top;\n",
       "    }\n",
       "\n",
       "    .dataframe thead th {\n",
       "        text-align: right;\n",
       "    }\n",
       "</style>\n",
       "<table border=\"1\" class=\"dataframe\">\n",
       "  <thead>\n",
       "    <tr style=\"text-align: right;\">\n",
       "      <th></th>\n",
       "      <th>ID_code</th>\n",
       "      <th>fold1</th>\n",
       "    </tr>\n",
       "  </thead>\n",
       "  <tbody>\n",
       "    <tr>\n",
       "      <th>0</th>\n",
       "      <td>test_0</td>\n",
       "      <td>0.159272</td>\n",
       "    </tr>\n",
       "    <tr>\n",
       "      <th>1</th>\n",
       "      <td>test_1</td>\n",
       "      <td>0.344331</td>\n",
       "    </tr>\n",
       "    <tr>\n",
       "      <th>2</th>\n",
       "      <td>test_2</td>\n",
       "      <td>0.235737</td>\n",
       "    </tr>\n",
       "    <tr>\n",
       "      <th>3</th>\n",
       "      <td>test_3</td>\n",
       "      <td>0.275450</td>\n",
       "    </tr>\n",
       "    <tr>\n",
       "      <th>4</th>\n",
       "      <td>test_4</td>\n",
       "      <td>0.058301</td>\n",
       "    </tr>\n",
       "  </tbody>\n",
       "</table>\n",
       "</div>"
      ],
      "text/plain": [
       "  ID_code     fold1\n",
       "0  test_0  0.159272\n",
       "1  test_1  0.344331\n",
       "2  test_2  0.235737\n",
       "3  test_3  0.275450\n",
       "4  test_4  0.058301"
      ]
     },
     "execution_count": 161,
     "metadata": {},
     "output_type": "execute_result"
    }
   ],
   "source": [
    "predictions['fold{}'.format(first_fold_idx+1)] = y_pred_test / 1 # The denominator is N in the code\n",
    "predictions.head()"
   ]
  },
  {
   "cell_type": "markdown",
   "metadata": {},
   "source": [
    "The submissions is a pandas DF with the mean of the probabilities of all folds."
   ]
  },
  {
   "cell_type": "code",
   "execution_count": 163,
   "metadata": {},
   "outputs": [
    {
     "data": {
      "text/html": [
       "<div>\n",
       "<style scoped>\n",
       "    .dataframe tbody tr th:only-of-type {\n",
       "        vertical-align: middle;\n",
       "    }\n",
       "\n",
       "    .dataframe tbody tr th {\n",
       "        vertical-align: top;\n",
       "    }\n",
       "\n",
       "    .dataframe thead th {\n",
       "        text-align: right;\n",
       "    }\n",
       "</style>\n",
       "<table border=\"1\" class=\"dataframe\">\n",
       "  <thead>\n",
       "    <tr style=\"text-align: right;\">\n",
       "      <th></th>\n",
       "      <th>ID_code</th>\n",
       "      <th>target</th>\n",
       "    </tr>\n",
       "  </thead>\n",
       "  <tbody>\n",
       "    <tr>\n",
       "      <th>0</th>\n",
       "      <td>test_0</td>\n",
       "      <td>0.159272</td>\n",
       "    </tr>\n",
       "    <tr>\n",
       "      <th>1</th>\n",
       "      <td>test_1</td>\n",
       "      <td>0.344331</td>\n",
       "    </tr>\n",
       "    <tr>\n",
       "      <th>2</th>\n",
       "      <td>test_2</td>\n",
       "      <td>0.235737</td>\n",
       "    </tr>\n",
       "    <tr>\n",
       "      <th>3</th>\n",
       "      <td>test_3</td>\n",
       "      <td>0.275450</td>\n",
       "    </tr>\n",
       "    <tr>\n",
       "      <th>4</th>\n",
       "      <td>test_4</td>\n",
       "      <td>0.058301</td>\n",
       "    </tr>\n",
       "  </tbody>\n",
       "</table>\n",
       "</div>"
      ],
      "text/plain": [
       "  ID_code    target\n",
       "0  test_0  0.159272\n",
       "1  test_1  0.344331\n",
       "2  test_2  0.235737\n",
       "3  test_3  0.275450\n",
       "4  test_4  0.058301"
      ]
     },
     "execution_count": 163,
     "metadata": {},
     "output_type": "execute_result"
    }
   ],
   "source": [
    "predictions['target'] = np.mean(predictions[[col for col in predictions.columns if col not in ['ID_code', 'target']]].values, axis=1)\n",
    "submission = pd.DataFrame({\"ID_code\":test_df[\"ID_code\"].values})\n",
    "submission[\"target\"] = predictions['target']\n",
    "submission.head()"
   ]
  },
  {
   "cell_type": "code",
   "execution_count": null,
   "metadata": {},
   "outputs": [],
   "source": []
  }
 ],
 "metadata": {
  "kernelspec": {
   "display_name": "Python 3",
   "language": "python",
   "name": "python3"
  },
  "language_info": {
   "codemirror_mode": {
    "name": "ipython",
    "version": 3
   },
   "file_extension": ".py",
   "mimetype": "text/x-python",
   "name": "python",
   "nbconvert_exporter": "python",
   "pygments_lexer": "ipython3",
   "version": "3.6.5"
  }
 },
 "nbformat": 4,
 "nbformat_minor": 2
}
